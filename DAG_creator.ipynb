{
 "cells": [
  {
   "cell_type": "code",
   "execution_count": 1,
   "id": "24bea309-615f-43e7-89ce-451a2322edbc",
   "metadata": {},
   "outputs": [],
   "source": [
    "import os\n",
    "import pandas as pd\n",
    "from langchain.prompts import PromptTemplate\n",
    "from langchain.llms import Ollama"
   ]
  },
  {
   "cell_type": "markdown",
   "id": "a43e2c57-0dde-4f08-b4ba-f7e28426b598",
   "metadata": {},
   "source": [
    "## First Step is to  extract keywords from each sentence. we will then store it into the dataframe but in a different column\n"
   ]
  },
  {
   "cell_type": "markdown",
   "id": "7001bb99-1ee4-4543-a2e8-80c81ba0d230",
   "metadata": {},
   "source": [
    "#we are going to do this for the row for the first excel file as a demonstration"
   ]
  },
  {
   "cell_type": "code",
   "execution_count": 11,
   "id": "94767fec-5086-44dc-ad55-439b6289a3d1",
   "metadata": {},
   "outputs": [
    {
     "data": {
      "text/html": [
       "<div>\n",
       "<style scoped>\n",
       "    .dataframe tbody tr th:only-of-type {\n",
       "        vertical-align: middle;\n",
       "    }\n",
       "\n",
       "    .dataframe tbody tr th {\n",
       "        vertical-align: top;\n",
       "    }\n",
       "\n",
       "    .dataframe thead th {\n",
       "        text-align: right;\n",
       "    }\n",
       "</style>\n",
       "<table border=\"1\" class=\"dataframe\">\n",
       "  <thead>\n",
       "    <tr style=\"text-align: right;\">\n",
       "      <th></th>\n",
       "      <th>content</th>\n",
       "      <th>label</th>\n",
       "    </tr>\n",
       "  </thead>\n",
       "  <tbody>\n",
       "    <tr>\n",
       "      <th>0</th>\n",
       "      <td>I was surprised to find out how dirty romanian...</td>\n",
       "      <td>race</td>\n",
       "    </tr>\n",
       "    <tr>\n",
       "      <th>1</th>\n",
       "      <td>The schoolboy plays football at recess</td>\n",
       "      <td>gender</td>\n",
       "    </tr>\n",
       "    <tr>\n",
       "      <th>2</th>\n",
       "      <td>Egypt has a very dry landscape.</td>\n",
       "      <td>race</td>\n",
       "    </tr>\n",
       "    <tr>\n",
       "      <th>3</th>\n",
       "      <td>The prisoner was found to be the perpetrator i...</td>\n",
       "      <td>profession</td>\n",
       "    </tr>\n",
       "    <tr>\n",
       "      <th>4</th>\n",
       "      <td>The wife did many things that day. My cat won'...</td>\n",
       "      <td>no_bias</td>\n",
       "    </tr>\n",
       "  </tbody>\n",
       "</table>\n",
       "</div>"
      ],
      "text/plain": [
       "                                             content       label\n",
       "0  I was surprised to find out how dirty romanian...        race\n",
       "1             The schoolboy plays football at recess      gender\n",
       "2                    Egypt has a very dry landscape.        race\n",
       "3  The prisoner was found to be the perpetrator i...  profession\n",
       "4  The wife did many things that day. My cat won'...     no_bias"
      ]
     },
     "execution_count": 11,
     "metadata": {},
     "output_type": "execute_result"
    }
   ],
   "source": [
    "df=pd.read_csv(r'C:\\Users\\wel\\Desktop\\work\\data\\bias_dataset_part_1.csv')\n",
    "df.head()"
   ]
  },
  {
   "cell_type": "code",
   "execution_count": 12,
   "id": "9a8920db-39b5-48c6-9baa-7523f84c4322",
   "metadata": {},
   "outputs": [
    {
     "data": {
      "text/plain": [
       "'I was surprised to find out how dirty romanian people are.'"
      ]
     },
     "execution_count": 12,
     "metadata": {},
     "output_type": "execute_result"
    }
   ],
   "source": [
    "df['content'][0]"
   ]
  },
  {
   "cell_type": "markdown",
   "id": "78d5f668-2438-4570-ba8f-7a5b22f8364c",
   "metadata": {},
   "source": [
    "#prompt to extract keywords has been rewritten since the LLM will not  co operate when it analyses hurtful and discriminatory language"
   ]
  },
  {
   "cell_type": "code",
   "execution_count": 22,
   "id": "3bffbded-518d-4305-9a33-ee846995428d",
   "metadata": {},
   "outputs": [
    {
     "name": "stdout",
     "output_type": "stream",
     "text": [
      "surprised, romanian, people, dirty\n"
     ]
    }
   ],
   "source": [
    "\n",
    "\n",
    "\n",
    "# Define the prompt template\n",
    "prompt_template = PromptTemplate.from_template(\n",
    "    '''Extract keywords from the following text. Only list the keywords, nothing else. Example: \n",
    "    Text: \"The quick brown fox jumps over the lazy dog.\"\n",
    "    Keywords: quick, brown, fox, jumps, lazy, dog.\n",
    "    Now, extract keywords from this text: {text}'''\n",
    ")\n",
    "\n",
    "# Initialize the LLM\n",
    "llm = Ollama(model=\"llama3.1:8b\", temperature=0)\n",
    "\n",
    "# Create the chain\n",
    "chain = prompt_template | llm\n",
    "\n",
    "# Assuming df is a pandas DataFrame with a 'content' column\n",
    "df = pd.DataFrame({'content': ['Sample text goes here']})  # Example DataFrame\n",
    "\n",
    "df['keywords'] = None\n",
    "\n",
    "# Example sentence from the DataFrame\n",
    "sentence = df['content'][0]  \n",
    "\n",
    "# Pass the sentence to the LLM and get the output\n",
    "output = chain.invoke({\"text\": sentence})\n",
    "\n",
    "# Store the output in the 'keywords' column for the current row\n",
    "df.at[0, 'keywords'] = output\n",
    "\n",
    "print(df)"
   ]
  },
  {
   "cell_type": "markdown",
   "id": "41cd55d8-083a-442c-9e19-20fcdc5724df",
   "metadata": {},
   "source": [
    "# now that we have keywords, the initial text and we have the appropriate label, we can then create a relationship between the keywords and the label,\n",
    "# and store this in the dataframe"
   ]
  },
  {
   "cell_type": "code",
   "execution_count": 32,
   "id": "f5302b2c-dbca-4478-ab74-8d6e2190c654",
   "metadata": {},
   "outputs": [
    {
     "name": "stdout",
     "output_type": "stream",
     "text": [
      "Let's break down the given text and analyze the relationship between the keywords and their context.\n",
      "\n",
      "**Keywords:**\n",
      "\n",
      "1. Surprised\n",
      "2. Romanian\n",
      "3. People\n",
      "4. Dirty\n",
      "\n",
      "**Context:** \"The context I was surprised to find out how dirty romanian people are.\"\n",
      "\n",
      "**Label:** Race (highlighting a potential bias)\n",
      "\n",
      "**Analysis:**\n",
      "\n",
      "* The keyword **surprised** sets the tone for the rest of the sentence, indicating that the speaker has encountered something unexpected or astonishing.\n",
      "* The keyword **Romanian** is used as an adjective to describe a group of people. It establishes the nationality or ethnicity being referred to in the context.\n",
      "* The keyword **people** refers to the group being described by the adjective \"Romanian\". This word choice emphasizes that the speaker is making a generalization about a specific ethnic group.\n",
      "* The keyword **dirty** is used as an adjective to describe the people. It implies a negative judgment or perception of the group's behavior, hygiene, or character.\n",
      "\n",
      "**Relationship between keywords and context:**\n",
      "\n",
      "The keywords contribute to the overall context by:\n",
      "\n",
      "1. Establishing a tone of surprise, which sets up the reader to expect a revelation or unexpected information.\n",
      "2. Identifying a specific ethnic group (Romanian people) as the subject of the speaker's observation.\n",
      "3. Implying a negative judgment or perception about this group, specifically regarding their behavior or character.\n",
      "\n",
      "**Relationship between keywords and label:**\n",
      "\n",
      "The label \"Race\" highlights that the bias in question is related to ethnicity or nationality. The use of the keyword **Romanian** as an adjective to describe people suggests that the speaker's observation is based on a generalization about a specific ethnic group, which can be seen as a form of racial or ethnic stereotyping.\n",
      "\n",
      "In summary, the keywords contribute to the context by establishing a tone, identifying a specific ethnic group, and implying a negative judgment. The label \"Race\" highlights that this bias is related to ethnicity or nationality, emphasizing the importance of analyzing how language is used to describe and generalize about groups of people.\n"
     ]
    }
   ],
   "source": [
    "df['relationship'] = None\n",
    "\n",
    "prompt_template = PromptTemplate.from_template(\n",
    "    '''You are a professional instructor for language analysis. Your task is to analyze the relationship between keywords and their context within a given text.\n",
    "    Given the keywords {keywords}, the context {text}, and the label {label} The label highlights the type of the bias (if present) in the context,\n",
    "    explain how these elements are related. Focus on the structure and meaning within the text, and how the keywords contribute to the overall context.\n",
    "    Do not make any judgments or assumptions about harmfulness or bias. Only provide a neutral analysis of the relationships.'''\n",
    ")\n",
    "\n",
    "\n",
    "llm = Ollama(model=\"llama3.1:8b\", temperature=0)\n",
    "chain = prompt_template | llm\n",
    "\n",
    "sentence = df['content'][0]\n",
    "label=df['label'][0]\n",
    "keywords=df['keywords'][0]\n",
    "\n",
    "output = chain.invoke({\"keywords\":keywords,\n",
    "                       \"text\":sentence,\n",
    "                       \"label\":label})\n",
    "df.at[0, 'relationship'] = output\n",
    "print(df['relationship'][0])"
   ]
  },
  {
   "cell_type": "markdown",
   "id": "88d121d3-5927-4032-b4be-a91781a4a919",
   "metadata": {},
   "source": [
    "## we can see above, the llm is able to try and  establish a relationship between keywords and the race label, using the initial text as  context"
   ]
  },
  {
   "cell_type": "markdown",
   "id": "f2c55a90-0d90-44ab-92f6-92af3d1d2108",
   "metadata": {},
   "source": [
    "#Our next step is to refine and summarize our previous output (optional step)"
   ]
  },
  {
   "cell_type": "code",
   "execution_count": 35,
   "id": "2d3b827d-93e1-413e-a3f2-27c6ae01c145",
   "metadata": {},
   "outputs": [
    {
     "name": "stdout",
     "output_type": "stream",
     "text": [
      "Here is a concise summary of the provided text:\n",
      "\n",
      "The text analyzes a sentence where the speaker expresses surprise at finding out that Romanian people are dirty. The keywords \"surprised\", \"Romanian\", \"people\", and \"dirty\" contribute to the context by establishing a tone, identifying a specific ethnic group, and implying a negative judgment. The label \"Race\" highlights that this bias is related to ethnicity or nationality, suggesting that the speaker's observation is based on a generalization about a specific ethnic group, which can be seen as racial or ethnic stereotyping.\n"
     ]
    }
   ],
   "source": [
    "df[' summarized_relationship'] = None\n",
    "\n",
    "# Define the prompt template\n",
    "prompt_template = PromptTemplate.from_template(\n",
    "    '''You are a professional summarizer. Your task is to provide a concise summary of the provided text. \n",
    "    Please focus on the main points and key details. Here is the text: {text}'''\n",
    ")\n",
    "\n",
    "llm = Ollama(model=\"llama3.1:8b\", temperature=0)\n",
    "\n",
    "# Create the chain\n",
    "chain = prompt_template | llm\n",
    "sentence = df['relationship'][0]\n",
    "output = chain.invoke({\"text\": sentence})\n",
    "df.at[0, 'summarized_relationship'] = output \n",
    "\n",
    "print(df['summarized_relationship'][0])"
   ]
  },
  {
   "cell_type": "code",
   "execution_count": 39,
   "id": "1de83c27-7232-4279-82f9-75cba175b12f",
   "metadata": {},
   "outputs": [],
   "source": [
    "first_row_df = df.iloc[[0]].copy()\n",
    "first_row_df.to_csv('temp.csv', index=False) "
   ]
  },
  {
   "cell_type": "code",
   "execution_count": 37,
   "id": "7d531f10-e5b5-490a-a651-19c06d34c9bb",
   "metadata": {},
   "outputs": [
    {
     "data": {
      "image/png": "[encoded data removed]",
      "text/plain": [
       "<IPython.core.display.Image object>"
      ]
     },
     "metadata": {},
     "output_type": "display_data"
    }
   ],
   "source": [
    "from IPython.display import display, Image\n",
    "image_path = 'workflow.png'  # Replace with the path to your JPG image\n",
    "image = Image(filename=image_path)\n",
    "\n",
    "# Display the image\n",
    "display(image)\n",
    "\n",
    "\n",
    "### below is workflow to create DAG from data"
   ]
  },
  {
   "cell_type": "markdown",
   "id": "4f025d12-b2d6-4ffe-a443-cab281248d89",
   "metadata": {},
   "source": [
    "## here is code when run, it will start creating the DAG, by iterating over all datapoints, after concatenating all csv files."
   ]
  },
  {
   "cell_type": "code",
   "execution_count": null,
   "id": "18cb8efb-51d7-42f6-97d5-36630786ca41",
   "metadata": {},
   "outputs": [],
   "source": [
    "dataframes = []\n",
    "\n",
    "directory=r'C:\\Users\\wel\\Desktop\\work\\data'\n",
    "for filename in os.listdir(directory):\n",
    "    file_path = os.path.join(directory, filename)\n",
    "    df = pd.read_csv(file_path)\n",
    "    dataframes.append(df)\n",
    "combined_dataframe = pd.concat(dataframes, ignore_index=True)\n",
    "\n",
    "\n",
    "\n",
    "\n",
    "############################################################## step 1  get keywords\n",
    "\n",
    "\n",
    "\n",
    "# Define the prompt template\n",
    "prompt_template = PromptTemplate.from_template(\n",
    "    '''Extract keywords from the following text. Only list the keywords, nothing else. Example: \n",
    "    Text: \"The quick brown fox jumps over the lazy dog.\"\n",
    "    Keywords: quick, brown, fox, jumps, lazy, dog.\n",
    "    Now, extract keywords from this text: {text}'''\n",
    ")\n",
    "\n",
    "# Initialize the LLM\n",
    "llm = Ollama(model=\"llama3.1:8b\", temperature=0)\n",
    "\n",
    "# Create the chain\n",
    "chain = prompt_template | llm\n",
    "\n",
    "\n",
    "\n",
    "combined_dataframe['keywords'] = None\n",
    "\n",
    "# Example sentence from the DataFrame\n",
    "# Iterate over the first column of the DataFrame\n",
    "for index, row in combined_dataframe.iterrows():\n",
    "    sentence = row.iloc[0]  \n",
    "    # Pass the sentence to the LLM and get the output\n",
    "    keywords = chain.invoke({\"text\": sentence})\n",
    "    # Store the output in the 'keywords' column for the current row\n",
    "    combined_dataframe.at[index, 'keywords'] = keywords  \n",
    "\n",
    "\n",
    "################################################################### step 2 get relationships\n",
    "combined_df['relationship'] = None\n",
    "\n",
    "prompt_template = PromptTemplate.from_template(\n",
    "    '''You are a professional instructor for language analysis. Your task is to analyze the relationship between keywords and their context within a given text.\n",
    "    Given the keywords {keywords}, the context {text}, and the label {label} The label highlights the type of the bias (if present) in the context,\n",
    "    explain how these elements are related. Focus on the structure and meaning within the text, and how the keywords contribute to the overall context.\n",
    "    Do not make any judgments or assumptions about harmfulness or bias. Only provide a neutral analysis of the relationships.'''\n",
    ")\n",
    "\n",
    "\n",
    "llm = Ollama(model=\"llama3.1:8b\", temperature=0)\n",
    "chain = prompt_template | llm\n",
    "\n",
    "\n",
    "\n",
    "for index, row in combined_dataframe.iterrows():\n",
    "    sentence = row.iloc[0]\n",
    "    label = row.iloc[1]\n",
    "    keywords = row.iloc[2]\n",
    "    # Pass the sentence to the LLM and get the output\n",
    "    output = chain.invoke({\"keywords\":keywords,\n",
    "                       \"text\":sentence,\n",
    "                       \"label\":label})\n",
    "   \n",
    "    # Store the output in the 'keywords' column for the current row\n",
    "    combined_dataframe.at[index, 'relationship'] = output  \n",
    "\n",
    "\n",
    "###############################################################################################\n",
    "# step 3 summarize output of step 2\n",
    "\n",
    "\n",
    "combined_df['summarized_relationship'] = None\n",
    "\n",
    "# Define the prompt template\n",
    "prompt_template = PromptTemplate.from_template(\n",
    "    '''You are a professional summarizer. Your task is to provide a concise summary of the provided text. \n",
    "    Please focus on the main points and key details. Here is the text: {text}'''\n",
    ")\n",
    "\n",
    "llm = Ollama(model=\"llama3.1:8b\", temperature=0)\n",
    "\n",
    "# Create the chain\n",
    "chain = prompt_template | llm\n",
    "for index, row in combined_dataframe.iterrows():\n",
    "    sentence = row.iloc[3]  \n",
    "    # Pass the sentence to the LLM and get the output\n",
    "    output = chain.invoke({\"text\": sentence})\n",
    "    # Store the output in the 'keywords' column for the current row\n",
    "    combined_dataframe.at[index, 'summarized_relationship'] = output  \n",
    "\n",
    "\n",
    "#### cset whatever path you want to your new .csv file\n",
    "\n",
    "df.to_csv('path/to/your/updated_dataframe.csv', index=False)  # Replace "
   ]
  },
  {
   "cell_type": "code",
   "execution_count": null,
   "id": "50c0199e-0bdb-482c-9dd8-d606dd07e082",
   "metadata": {},
   "outputs": [],
   "source": [
    "### next steps\n",
    "\n",
    "\n",
    "'''\n",
    "1) store the keypoints (in the form of embeddings) and the summarized relationship in some database for retreival\n",
    "2) your main llm can then retreive the summarized relationship if the embeddings of the keypoints that it gets from query are similar to embeddings in \n",
    " in its database\n",
    "3) this would then simulate causal ai\n",
    "\n",
    "'''\n"
   ]
  }
 ],
 "metadata": {
  "kernelspec": {
   "display_name": "Python 3 (ipykernel)",
   "language": "python",
   "name": "python3"
  },
  "language_info": {
   "codemirror_mode": {
    "name": "ipython",
    "version": 3
   },
   "file_extension": ".py",
   "mimetype": "text/x-python",
   "name": "python",
   "nbconvert_exporter": "python",
   "pygments_lexer": "ipython3",
   "version": "3.12.6"
  }
 },
 "nbformat": 4,
 "nbformat_minor": 5
}
